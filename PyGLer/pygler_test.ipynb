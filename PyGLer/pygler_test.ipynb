{
 "metadata": {
  "name": "",
  "signature": "sha256:47c7e9df4181ae4318058fbfec6a1ae2115334fbba2748735f338a7a6c0a6572"
 },
 "nbformat": 3,
 "nbformat_minor": 0,
 "worksheets": [
  {
   "cells": [
    {
     "cell_type": "code",
     "collapsed": false,
     "input": [
      "import sys\n",
      "sys.path.append(\"../../python_tests/PyCVCommons/src\")\n",
      "sys.path.append(\"./src\")\n",
      "\n",
      "from pygler.viewer import PyGLer\n",
      "from pygler.model import PyGLerModel,Geometry\n",
      "import numpy as np\n",
      "import cv2\n",
      "from cvcommons import image"
     ],
     "language": "python",
     "metadata": {},
     "outputs": [],
     "prompt_number": 1
    },
    {
     "cell_type": "code",
     "collapsed": false,
     "input": [
      "viewer = PyGLer(useFBO=True)\n",
      "viewer.start()"
     ],
     "language": "python",
     "metadata": {},
     "outputs": [
      {
       "output_type": "stream",
       "stream": "stdout",
       "text": [
        "FBO initialized correctly.\n"
       ]
      }
     ],
     "prompt_number": 2
    },
    {
     "cell_type": "code",
     "collapsed": false,
     "input": [
      "tri = PyGLerModel.LoadObj(\"triceratops.obj\",computeNormals=True)\n",
      "viewer.addModel(tri)"
     ],
     "language": "python",
     "metadata": {},
     "outputs": [],
     "prompt_number": 3
    },
    {
     "cell_type": "code",
     "collapsed": false,
     "input": [
      "depth,bgr = viewer.Convert2BGRD(viewer.capture())"
     ],
     "language": "python",
     "metadata": {},
     "outputs": [],
     "prompt_number": 4
    },
    {
     "cell_type": "code",
     "collapsed": false,
     "input": [
      "k = image.show(\"depth\",depth,1)\n",
      "while k&255!=ord('q'):\n",
      "    depth,bgr = viewer.Convert2BGRD(viewer.capture())\n",
      "    k = image.show(\"depth\",depth,1)"
     ],
     "language": "python",
     "metadata": {},
     "outputs": [],
     "prompt_number": 20
    },
    {
     "cell_type": "code",
     "collapsed": false,
     "input": [
      "s = 0.5                                                                \n",
      "v = np.array([ s, s, s,1,\n",
      "              -s, s, s,1,\n",
      "              -s,-s, s,1,\n",
      "               s,-s, s,1,\n",
      "               s,-s,-s,1,\n",
      "               s, s,-s,1,\n",
      "              -s, s,-s,1,\n",
      "              -s,-s,-s,1 ],dtype='f').reshape(-1,4)\n",
      "              \n",
      "c = np.array([ 1, 1, 1, 1, \n",
      "               1, 1, 0, 1, \n",
      "               1, 0, 1, 1,\n",
      "               0, 1, 1, 1,\n",
      "               1, 0, 0, 1,\n",
      "               0, 0, 1, 1,\n",
      "               0, 1, 0, 1,\n",
      "               0, 0, 0, 1],dtype='f').reshape(-1,4); \n",
      "\n",
      "t = np.array([0,1,2, 2,3,0,\n",
      "              0,3,5, 5,3,4,\n",
      "              5,6,7, 7,4,5,\n",
      "              1,0,5, 5,6,1,\n",
      "              1,6,7, 7,2,1,\n",
      "              2,7,4, 4,3,2 ],dtype=np.uint32)\n",
      "                                 \n",
      "vertices = np.array( [\n",
      "        [  0, 1, 0, 1.0 ],\n",
      "        [ -1,-1, 0, 1.0 ],\n",
      "        [  1,-1, 0, 1.0 ],\n",
      "        [  2,-1, 0, 1.0 ],\n",
      "        [  4,-1, 0, 1.0 ],\n",
      "        [  4, 1, 0, 1.0 ],\n",
      "        [  2,-1, 0, 1.0 ],\n",
      "        [  4, 1, 0, 1.0 ],\n",
      "        [  2, 1, 0, 1.0 ]\n",
      "    ],'f')\n",
      "\n",
      "triangles = np.array([0,1,2,3,4,5,6,7,8]\n",
      ",np.uint32)\n",
      "\n",
      "colors = np.array([ [ 0,1,0,1 ],\n",
      "                   [ 1,1,0,1 ],\n",
      "                   [ 0,1,1,1 ],\n",
      "                   [ 1,0,0,1 ],\n",
      "                   [ 0,1,0,1 ],\n",
      "                   [ 0,0,1,1 ],\n",
      "                   [ 1,0,0,1 ],\n",
      "                   [ 0,0,1,1 ],\n",
      "                   [ 0,1,1,1 ]],'f')\n"
     ],
     "language": "python",
     "metadata": {},
     "outputs": [],
     "prompt_number": 8
    },
    {
     "cell_type": "code",
     "collapsed": false,
     "input": [
      "m = PyGLerModel(\"Test\",Geometry(vertices,triangles=triangles, colors=colors))"
     ],
     "language": "python",
     "metadata": {},
     "outputs": [],
     "prompt_number": 9
    },
    {
     "cell_type": "code",
     "collapsed": false,
     "input": [
      "cube = PyGLerModel(\"Cube\",Geometry(vertices = v, triangles=t, colors=c, autoScale=True))"
     ],
     "language": "python",
     "metadata": {},
     "outputs": [],
     "prompt_number": 10
    },
    {
     "cell_type": "code",
     "collapsed": false,
     "input": [
      "viewer.addModel(cube)"
     ],
     "language": "python",
     "metadata": {},
     "outputs": [],
     "prompt_number": 11
    },
    {
     "cell_type": "code",
     "collapsed": false,
     "input": [],
     "language": "python",
     "metadata": {},
     "outputs": []
    }
   ],
   "metadata": {}
  }
 ]
}