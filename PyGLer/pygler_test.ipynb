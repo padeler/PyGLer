{
 "metadata": {
  "name": ""
 },
 "nbformat": 3,
 "nbformat_minor": 0,
 "worksheets": [
  {
   "cells": [
    {
     "cell_type": "code",
     "collapsed": false,
     "input": [
      "from pygler import PyGLer\n",
      "from model import PyGLerModel\n",
      "import numpy as np\n"
     ],
     "language": "python",
     "metadata": {},
     "outputs": [],
     "prompt_number": 1
    },
    {
     "cell_type": "code",
     "collapsed": false,
     "input": [
      "viewer = PyGLer()\n",
      "viewer.start()"
     ],
     "language": "python",
     "metadata": {},
     "outputs": [],
     "prompt_number": 2
    },
    {
     "cell_type": "code",
     "collapsed": false,
     "input": [
      "tri = PyGLerModel.LoadObj(\"triceratops.obj\")\n",
      "viewer.addModel(tri)"
     ],
     "language": "python",
     "metadata": {},
     "outputs": [
      {
       "output_type": "stream",
       "stream": "stdout",
       "text": [
        "Time to run  ComputeNormals :  6.04510307312 ms\n",
        "Vertices  (2832, 3)  Type:  float32\n",
        "Faces  (5660, 3)  Type:  uint32\n",
        "Normals  (2832, 3)  Type:  float32\n",
        "NormalVertices dtype  float32\n"
       ]
      }
     ],
     "prompt_number": 3
    },
    {
     "cell_type": "code",
     "collapsed": false,
     "input": [
      "s = 0.5                                                                \n",
      "v = np.array([ s, s, s,1,\n",
      "              -s, s, s,1,\n",
      "              -s,-s, s,1,\n",
      "               s,-s, s,1,\n",
      "               s,-s,-s,1,\n",
      "               s, s,-s,1,\n",
      "              -s, s,-s,1,\n",
      "              -s,-s,-s,1 ],dtype='f').reshape(-1,4)\n",
      "              \n",
      "c = np.array([ 1, 1, 1, 1, \n",
      "               1, 1, 0, 1, \n",
      "               1, 0, 1, 1,\n",
      "               0, 1, 1, 1,\n",
      "               1, 0, 0, 1,\n",
      "               0, 0, 1, 1,\n",
      "               0, 1, 0, 1,\n",
      "               0, 0, 0, 1],dtype='f').reshape(-1,4); \n",
      "\n",
      "t = np.array([0,1,2, 2,3,0,\n",
      "              0,3,5, 5,3,4,\n",
      "              5,6,7, 7,4,5,\n",
      "              1,0,5, 5,6,1,\n",
      "              1,6,7, 7,2,1,\n",
      "              2,7,4, 4,3,2 ],dtype=np.uint32)\n",
      "                                 \n",
      "vertices = np.array( [\n",
      "        [  0, 1, 0, 1.0 ],\n",
      "        [ -1,-1, 0, 1.0 ],\n",
      "        [  1,-1, 0, 1.0 ],\n",
      "        [  2,-1, 0, 1.0 ],\n",
      "        [  4,-1, 0, 1.0 ],\n",
      "        [  4, 1, 0, 1.0 ],\n",
      "        [  2,-1, 0, 1.0 ],\n",
      "        [  4, 1, 0, 1.0 ],\n",
      "        [  2, 1, 0, 1.0 ]\n",
      "    ],'f')\n",
      "\n",
      "triangles = np.array([0,1,2,3,4,5,6,7,8]\n",
      ",np.uint32)\n",
      "\n",
      "colors = np.array([ [ 0,1,0,1 ],\n",
      "                   [ 1,1,0,1 ],\n",
      "                   [ 0,1,1,1 ],\n",
      "                   [ 1,0,0,1 ],\n",
      "                   [ 0,1,0,1 ],\n",
      "                   [ 0,0,1,1 ],\n",
      "                   [ 1,0,0,1 ],\n",
      "                   [ 0,0,1,1 ],\n",
      "                   [ 0,1,1,1 ]],'f')\n"
     ],
     "language": "python",
     "metadata": {},
     "outputs": [
      {
       "output_type": "stream",
       "stream": "stdout",
       "text": [
        "Key press   115  =>  0\n",
        "Backward.\n",
        "Key press   115  =>  0\n",
        "Backward.\n",
        "Key press   115  =>  0\n",
        "Backward.\n",
        "Key press   51  =>  0\n",
        "Key press   50  =>  0\n",
        "Key press   50  =>  0\n",
        "Key press   49  =>  0\n",
        "Key press   50  =>  0\n",
        "Key press   50  =>  0\n",
        "Key press   49  =>  0\n",
        "Zoom  0.9\n",
        "Zoom  0.8\n",
        "Zoom  0.9\n",
        "Zoom  1.0\n",
        "Zoom  1.1\n",
        "Zoom  1.2\n",
        "Zoom  1.3\n",
        "Zoom  1.4\n",
        "Zoom  1.5\n",
        "Zoom  1.6\n",
        "Zoom  1.7\n",
        "Zoom  1.8\n"
       ]
      }
     ],
     "prompt_number": 4
    },
    {
     "cell_type": "code",
     "collapsed": false,
     "input": [
      " m = PyGLerModel(\"Test\",vertices,triangles=triangles, colors=colors)"
     ],
     "language": "python",
     "metadata": {},
     "outputs": [],
     "prompt_number": 5
    },
    {
     "cell_type": "code",
     "collapsed": false,
     "input": [
      "cube = PyGLerModel(\"Cube\", vertices = v, triangles=t, colors=c, autoScale=True)"
     ],
     "language": "python",
     "metadata": {},
     "outputs": [],
     "prompt_number": 6
    },
    {
     "cell_type": "code",
     "collapsed": false,
     "input": [
      "viewer.addModel(cube)"
     ],
     "language": "python",
     "metadata": {},
     "outputs": [],
     "prompt_number": 7
    },
    {
     "cell_type": "code",
     "collapsed": false,
     "input": [
      "viewer.removeModel(cube)"
     ],
     "language": "python",
     "metadata": {},
     "outputs": [],
     "prompt_number": 17
    },
    {
     "cell_type": "code",
     "collapsed": false,
     "input": [
      "tri = PyGLerModel.LoadObj(\"triceratops.obj\")"
     ],
     "language": "python",
     "metadata": {},
     "outputs": [
      {
       "output_type": "stream",
       "stream": "stdout",
       "text": [
        "Vertices  (2832, 3)  Type:  float32\n",
        "Faces  (5660, 3)  Type:  uint32\n"
       ]
      }
     ],
     "prompt_number": 6
    },
    {
     "cell_type": "code",
     "collapsed": false,
     "input": [
      "viewer.addModel(tri)"
     ],
     "language": "python",
     "metadata": {},
     "outputs": [],
     "prompt_number": 7
    },
    {
     "cell_type": "code",
     "collapsed": false,
     "input": [
      "viewer.addModel(cube)"
     ],
     "language": "python",
     "metadata": {},
     "outputs": [
      {
       "output_type": "stream",
       "stream": "stdout",
       "text": [
        "Mouse Drag  538 238  =>  -2 1  Buttons:  2\n",
        "Mouse Drag  531 240  =>  -7 2  Buttons:  2\n",
        "Mouse Drag  526 243  =>  -5 3  Buttons:  2\n",
        "Mouse Drag  516 250  =>  -10 7  Buttons:  2\n",
        "Mouse Drag  501 259  =>  -15 9  Buttons:  2\n",
        "Mouse Drag  487 268  =>  -14 9  Buttons:  2\n",
        "Mouse Drag  473 270  =>  -14 2  Buttons:  2\n",
        "Mouse Drag  462 275  =>  -11 5  Buttons:  2\n",
        "Mouse Drag  451 281  =>  -11 6  Buttons:  2\n",
        "Mouse Drag  440 291  =>  -11 10  Buttons:  2\n",
        "Mouse Drag  427 297  =>  -13 6  Buttons:  2\n",
        "Mouse Drag  420 302  =>  -7 5  Buttons:  2\n",
        "Mouse Drag  414 305  =>  -6 3  Buttons:  2\n",
        "Mouse Drag  406 309  =>  -8 4  Buttons:  2\n",
        "Mouse Drag  400 313  =>  -6 4  Buttons:  2\n",
        "Mouse Drag  394 318  =>  -6 5  Buttons:  2\n",
        "Mouse Drag  390 321  =>  -4 3  Buttons:  2\n",
        "Mouse Drag  386 322  =>  -4 1  Buttons:  2\n",
        "Mouse Drag  383 323  =>  -3 1  Buttons:  2\n",
        "Mouse Drag  381 325  =>  -2 2  Buttons:  2\n",
        "Mouse Drag  380 326  =>  -1 1  Buttons:  2\n",
        "Mouse Release  380 326  => Buttons:  2\n",
        "Key press   115  =>  0\n",
        "Backward.\n",
        "Key press   115  =>  0\n",
        "Backward.\n",
        "Key press   115  =>  0\n",
        "Backward.\n",
        "Key press   115  =>  0\n",
        "Backward.\n",
        "Key press   115  =>  0\n",
        "Backward.\n",
        "Mouse Drag  338 177  =>  -5 3  Buttons:  2\n",
        "Mouse Drag  333 179  =>  -5 2  Buttons:  2\n",
        "Mouse Drag  328 183  =>  -5 4  Buttons:  2\n",
        "Mouse Drag  323 188  =>  -5 5  Buttons:  2\n",
        "Mouse Drag  316 194  =>  -7 6  Buttons:  2\n",
        "Mouse Drag  312 200  =>  -4 6  Buttons:  2\n",
        "Mouse Drag  307 211  =>  -5 11  Buttons:  2\n",
        "Mouse Drag  302 222  =>  -5 11  Buttons:  2\n",
        "Mouse Drag  299 231  =>  -3 9  Buttons:  2\n",
        "Mouse Drag  293 240  =>  -6 9  Buttons:  2\n",
        "Mouse Drag  288 251  =>  -5 11  Buttons:  2\n",
        "Mouse Drag  283 264  =>  -5 13  Buttons:  2\n",
        "Mouse Drag  276 280  =>  -7 16  Buttons:  2\n",
        "Mouse Drag  272 295  =>  -4 15  Buttons:  2\n",
        "Mouse Drag  268 306  =>  -4 11  Buttons:  2\n",
        "Mouse Drag  265 321  =>  -3 15  Buttons:  2\n",
        "Mouse Drag  258 337  =>  -7 16  Buttons:  2\n",
        "Mouse Drag  254 352  =>  -4 15  Buttons:  2\n",
        "Mouse Drag  248 364  =>  -6 12  Buttons:  2\n",
        "Mouse Drag  245 375  =>  -3 11  Buttons:  2\n",
        "Mouse Drag  243 388  =>  -2 13  Buttons:  2\n",
        "Mouse Drag  241 405  =>  -2 17  Buttons:  2\n",
        "Mouse Drag  238 419  =>  -3 14  Buttons:  2\n",
        "Mouse Drag  236 432  =>  -2 13  Buttons:  2\n",
        "Mouse Drag  234 446  =>  -2 14  Buttons:  2\n",
        "Mouse Drag  230 461  =>  -4 15  Buttons:  2\n",
        "Mouse Drag  228 472  =>  -2 11  Buttons:  2\n",
        "Mouse Release  228 472  => Buttons:  2\n",
        "Mouse Drag  262 153  =>  -2 -1  Buttons:  2\n",
        "Mouse Drag  259 153  =>  -3 0  Buttons:  2\n",
        "Mouse Drag  254 155  =>  -5 2  Buttons:  2\n",
        "Mouse Drag  245 159  =>  -9 4  Buttons:  2\n",
        "Mouse Drag  231 165  =>  -14 6  Buttons:  2\n",
        "Mouse Drag  219 174  =>  -12 9  Buttons:  2\n",
        "Mouse Drag  205 186  =>  -14 12  Buttons:  2\n",
        "Mouse Drag  190 200  =>  -15 14  Buttons:  2\n",
        "Mouse Drag  173 211  =>  -17 11  Buttons:  2\n",
        "Mouse Drag  156 222  =>  -17 11  Buttons:  2\n",
        "Mouse Drag  140 229  =>  -16 7  Buttons:  2\n",
        "Mouse Drag  126 232  =>  -14 3  Buttons:  2\n",
        "Mouse Drag  111 236  =>  -15 4  Buttons:  2\n",
        "Mouse Drag  96 239  =>  -15 3  Buttons:  2\n",
        "Mouse Drag  84 242  =>  -12 3  Buttons:  2\n",
        "Mouse Drag  71 247  =>  -13 5  Buttons:  2\n",
        "Mouse Drag  61 254  =>  -10 7  Buttons:  2\n",
        "Mouse Drag  57 256  =>  -4 2  Buttons:  2\n",
        "Mouse Drag  54 257  =>  -3 1  Buttons:  2\n",
        "Mouse Drag  51 257  =>  -3 0  Buttons:  2\n",
        "Mouse Drag  50 257  =>  -1 0  Buttons:  2\n",
        "Mouse Drag  49 257  =>  -1 0  Buttons:  2\n",
        "Mouse Release  49 257  => Buttons:  2\n",
        "Mouse Drag  392 118  =>  -5 -4  Buttons:  2\n",
        "Mouse Drag  381 107  =>  -11 -11  Buttons:  2\n",
        "Mouse Drag  365 99  =>  -16 -8  Buttons:  2\n",
        "Mouse Drag  353 92  =>  -12 -7  Buttons:  2\n",
        "Mouse Drag  336 86  =>  -17 -6  Buttons:  2\n",
        "Mouse Drag  322 81  =>  -14 -5  Buttons:  2\n",
        "Mouse Drag  304 79  =>  -18 -2  Buttons:  2\n",
        "Mouse Drag  291 79  =>  -13 0  Buttons:  2\n",
        "Mouse Drag  273 79  =>  -18 0  Buttons:  2\n",
        "Mouse Drag  254 78  =>  -19 -1  Buttons:  2\n",
        "Mouse Drag  240 78  =>  -14 0  Buttons:  2\n",
        "Mouse Drag  224 77  =>  -16 -1  Buttons:  2\n",
        "Mouse Drag  216 76  =>  -8 -1  Buttons:  2\n",
        "Mouse Drag  205 74  =>  -11 -2  Buttons:  2\n",
        "Mouse Drag  197 74  =>  -8 0  Buttons:  2\n",
        "Mouse Drag  189 74  =>  -8 0  Buttons:  2\n",
        "Mouse Drag  182 73  =>  -7 -1  Buttons:  2\n",
        "Mouse Drag  175 73  =>  -7 0  Buttons:  2\n",
        "Mouse Drag  165 72  =>  -10 -1  Buttons:  2\n",
        "Mouse Drag  157 71  =>  -8 -1  Buttons:  2\n",
        "Mouse Drag  148 71  =>  -9 0  Buttons:  2\n",
        "Mouse Release  148 71  => Buttons:  2\n"
       ]
      }
     ],
     "prompt_number": 8
    },
    {
     "cell_type": "code",
     "collapsed": false,
     "input": [],
     "language": "python",
     "metadata": {},
     "outputs": []
    }
   ],
   "metadata": {}
  }
 ]
}