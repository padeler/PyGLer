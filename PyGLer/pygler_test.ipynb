{
 "metadata": {
  "name": "",
  "signature": "sha256:11d30ad7ee732eba885947b2c382a9a30b888eecfc02938274e78567d3ec0b1e"
 },
 "nbformat": 3,
 "nbformat_minor": 0,
 "worksheets": [
  {
   "cells": [
    {
     "cell_type": "code",
     "collapsed": false,
     "input": [
      "import sys\n",
      "sys.path.append(\"../../python_tests/PyCVCommons/src\")\n",
      "sys.path.append(\"./src\")\n",
      "\n",
      "from pygler.viewer import PyGLer\n",
      "from pygler.model import PyGLerModel,Geometry\n",
      "import numpy as np\n",
      "import cv2\n",
      "from cvcommons import image"
     ],
     "language": "python",
     "metadata": {},
     "outputs": [],
     "prompt_number": 1
    },
    {
     "cell_type": "code",
     "collapsed": false,
     "input": [
      "viewer = PyGLer(useFBO=True)\n",
      "viewer.start()"
     ],
     "language": "python",
     "metadata": {},
     "outputs": [
      {
       "output_type": "stream",
       "stream": "stdout",
       "text": [
        "FBO initialized correctly.\n"
       ]
      }
     ],
     "prompt_number": 2
    },
    {
     "cell_type": "code",
     "collapsed": false,
     "input": [
      "tri = PyGLerModel.LoadObj(\"triceratops.obj\",computeNormals=True)\n",
      "viewer.addModel(tri)"
     ],
     "language": "python",
     "metadata": {},
     "outputs": [],
     "prompt_number": 3
    },
    {
     "cell_type": "code",
     "collapsed": false,
     "input": [
      "depth,bgr = viewer.Convert2BGRD(viewer.capture())"
     ],
     "language": "python",
     "metadata": {},
     "outputs": [],
     "prompt_number": 4
    },
    {
     "cell_type": "code",
     "collapsed": false,
     "input": [
      "k = image.show(\"depth\",depth,1)\n",
      "while k&255!=ord('q'):\n",
      "    depth,bgr = viewer.Convert2BGRD(viewer.capture())\n",
      "    k = image.show(\"depth\",depth,1)"
     ],
     "language": "python",
     "metadata": {},
     "outputs": [
      {
       "ename": "KeyboardInterrupt",
       "evalue": "",
       "output_type": "pyerr",
       "traceback": [
        "\u001b[1;31m---------------------------------------------------------------------------\u001b[0m\n\u001b[1;31mKeyboardInterrupt\u001b[0m                         Traceback (most recent call last)",
        "\u001b[1;32m<ipython-input-5-3aba4f0ca17f>\u001b[0m in \u001b[0;36m<module>\u001b[1;34m()\u001b[0m\n\u001b[0;32m      1\u001b[0m \u001b[0mk\u001b[0m \u001b[1;33m=\u001b[0m \u001b[0mimage\u001b[0m\u001b[1;33m.\u001b[0m\u001b[0mshow\u001b[0m\u001b[1;33m(\u001b[0m\u001b[1;34m\"depth\"\u001b[0m\u001b[1;33m,\u001b[0m\u001b[0mdepth\u001b[0m\u001b[1;33m,\u001b[0m\u001b[1;36m1\u001b[0m\u001b[1;33m)\u001b[0m\u001b[1;33m\u001b[0m\u001b[0m\n\u001b[0;32m      2\u001b[0m \u001b[1;32mwhile\u001b[0m \u001b[0mk\u001b[0m\u001b[1;33m&\u001b[0m\u001b[1;36m255\u001b[0m\u001b[1;33m!=\u001b[0m\u001b[0mord\u001b[0m\u001b[1;33m(\u001b[0m\u001b[1;34m'q'\u001b[0m\u001b[1;33m)\u001b[0m\u001b[1;33m:\u001b[0m\u001b[1;33m\u001b[0m\u001b[0m\n\u001b[1;32m----> 3\u001b[1;33m     \u001b[0mdepth\u001b[0m\u001b[1;33m,\u001b[0m\u001b[0mbgr\u001b[0m \u001b[1;33m=\u001b[0m \u001b[0mviewer\u001b[0m\u001b[1;33m.\u001b[0m\u001b[0mConvert2BGRD\u001b[0m\u001b[1;33m(\u001b[0m\u001b[0mviewer\u001b[0m\u001b[1;33m.\u001b[0m\u001b[0mcapture\u001b[0m\u001b[1;33m(\u001b[0m\u001b[1;33m)\u001b[0m\u001b[1;33m)\u001b[0m\u001b[1;33m\u001b[0m\u001b[0m\n\u001b[0m\u001b[0;32m      4\u001b[0m     \u001b[0mk\u001b[0m \u001b[1;33m=\u001b[0m \u001b[0mimage\u001b[0m\u001b[1;33m.\u001b[0m\u001b[0mshow\u001b[0m\u001b[1;33m(\u001b[0m\u001b[1;34m\"depth\"\u001b[0m\u001b[1;33m,\u001b[0m\u001b[0mdepth\u001b[0m\u001b[1;33m,\u001b[0m\u001b[1;36m1\u001b[0m\u001b[1;33m)\u001b[0m\u001b[1;33m\u001b[0m\u001b[0m\n",
        "\u001b[1;32m/media/storage/home/padeler/work/python/git/PyGLer_repo/PyGLer/src/pygler/viewer.pyc\u001b[0m in \u001b[0;36mcapture\u001b[1;34m(self)\u001b[0m\n\u001b[0;32m    188\u001b[0m             \u001b[0mself\u001b[0m\u001b[1;33m.\u001b[0m\u001b[0m_captureRequested\u001b[0m\u001b[1;33m=\u001b[0m\u001b[0mTrue\u001b[0m\u001b[1;33m\u001b[0m\u001b[0m\n\u001b[0;32m    189\u001b[0m             \u001b[1;32mwhile\u001b[0m \u001b[0mself\u001b[0m\u001b[1;33m.\u001b[0m\u001b[0m_captureRequested\u001b[0m\u001b[1;33m:\u001b[0m \u001b[1;31m# while there is no screenshot yet\u001b[0m\u001b[1;33m\u001b[0m\u001b[0m\n\u001b[1;32m--> 190\u001b[1;33m                 \u001b[0mself\u001b[0m\u001b[1;33m.\u001b[0m\u001b[0mactionCond\u001b[0m\u001b[1;33m.\u001b[0m\u001b[0mwait\u001b[0m\u001b[1;33m(\u001b[0m\u001b[1;33m)\u001b[0m\u001b[1;33m\u001b[0m\u001b[0m\n\u001b[0m\u001b[0;32m    191\u001b[0m \u001b[1;33m\u001b[0m\u001b[0m\n\u001b[0;32m    192\u001b[0m             \u001b[1;32mreturn\u001b[0m \u001b[0mself\u001b[0m\u001b[1;33m.\u001b[0m\u001b[0mcapturedTuple\u001b[0m\u001b[1;33m\u001b[0m\u001b[0m\n",
        "\u001b[1;32m/usr/lib/python2.7/threading.pyc\u001b[0m in \u001b[0;36mwait\u001b[1;34m(self, timeout)\u001b[0m\n\u001b[0;32m    337\u001b[0m         \u001b[1;32mtry\u001b[0m\u001b[1;33m:\u001b[0m    \u001b[1;31m# restore state no matter what (e.g., KeyboardInterrupt)\u001b[0m\u001b[1;33m\u001b[0m\u001b[0m\n\u001b[0;32m    338\u001b[0m             \u001b[1;32mif\u001b[0m \u001b[0mtimeout\u001b[0m \u001b[1;32mis\u001b[0m \u001b[0mNone\u001b[0m\u001b[1;33m:\u001b[0m\u001b[1;33m\u001b[0m\u001b[0m\n\u001b[1;32m--> 339\u001b[1;33m                 \u001b[0mwaiter\u001b[0m\u001b[1;33m.\u001b[0m\u001b[0macquire\u001b[0m\u001b[1;33m(\u001b[0m\u001b[1;33m)\u001b[0m\u001b[1;33m\u001b[0m\u001b[0m\n\u001b[0m\u001b[0;32m    340\u001b[0m                 \u001b[1;32mif\u001b[0m \u001b[0m__debug__\u001b[0m\u001b[1;33m:\u001b[0m\u001b[1;33m\u001b[0m\u001b[0m\n\u001b[0;32m    341\u001b[0m                     \u001b[0mself\u001b[0m\u001b[1;33m.\u001b[0m\u001b[0m_note\u001b[0m\u001b[1;33m(\u001b[0m\u001b[1;34m\"%s.wait(): got it\"\u001b[0m\u001b[1;33m,\u001b[0m \u001b[0mself\u001b[0m\u001b[1;33m)\u001b[0m\u001b[1;33m\u001b[0m\u001b[0m\n",
        "\u001b[1;31mKeyboardInterrupt\u001b[0m: "
       ]
      }
     ],
     "prompt_number": 5
    },
    {
     "cell_type": "code",
     "collapsed": false,
     "input": [
      "s = 0.5                                                                \n",
      "v = np.array([ s, s, s,1,\n",
      "              -s, s, s,1,\n",
      "              -s,-s, s,1,\n",
      "               s,-s, s,1,\n",
      "               s,-s,-s,1,\n",
      "               s, s,-s,1,\n",
      "              -s, s,-s,1,\n",
      "              -s,-s,-s,1 ],dtype='f').reshape(-1,4)\n",
      "              \n",
      "c = np.array([ 1, 1, 1, 1, \n",
      "               1, 1, 0, 1, \n",
      "               1, 0, 1, 1,\n",
      "               0, 1, 1, 1,\n",
      "               1, 0, 0, 1,\n",
      "               0, 0, 1, 1,\n",
      "               0, 1, 0, 1,\n",
      "               0, 0, 0, 1],dtype='f').reshape(-1,4); \n",
      "\n",
      "t = np.array([0,1,2, 2,3,0,\n",
      "              0,3,5, 5,3,4,\n",
      "              5,6,7, 7,4,5,\n",
      "              1,0,5, 5,6,1,\n",
      "              1,6,7, 7,2,1,\n",
      "              2,7,4, 4,3,2 ],dtype=np.uint32)\n",
      "                                 \n",
      "vertices = np.array( [\n",
      "        [  0, 1, 0, 1.0 ],\n",
      "        [ -1,-1, 0, 1.0 ],\n",
      "        [  1,-1, 0, 1.0 ],\n",
      "        [  2,-1, 0, 1.0 ],\n",
      "        [  4,-1, 0, 1.0 ],\n",
      "        [  4, 1, 0, 1.0 ],\n",
      "        [  2,-1, 0, 1.0 ],\n",
      "        [  4, 1, 0, 1.0 ],\n",
      "        [  2, 1, 0, 1.0 ]\n",
      "    ],'f')\n",
      "\n",
      "triangles = np.array([0,1,2,3,4,5,6,7,8]\n",
      ",np.uint32)\n",
      "\n",
      "colors = np.array([ [ 0,1,0,1 ],\n",
      "                   [ 1,1,0,1 ],\n",
      "                   [ 0,1,1,1 ],\n",
      "                   [ 1,0,0,1 ],\n",
      "                   [ 0,1,0,1 ],\n",
      "                   [ 0,0,1,1 ],\n",
      "                   [ 1,0,0,1 ],\n",
      "                   [ 0,0,1,1 ],\n",
      "                   [ 0,1,1,1 ]],'f')\n"
     ],
     "language": "python",
     "metadata": {},
     "outputs": [],
     "prompt_number": 6
    },
    {
     "cell_type": "code",
     "collapsed": false,
     "input": [
      "m = PyGLerModel(\"Test\",Geometry(vertices,triangles=triangles, colors=colors))"
     ],
     "language": "python",
     "metadata": {},
     "outputs": [],
     "prompt_number": 7
    },
    {
     "cell_type": "code",
     "collapsed": false,
     "input": [
      "cube = PyGLerModel(\"Cube\",Geometry(vertices = v, triangles=t, colors=c, autoScale=True))"
     ],
     "language": "python",
     "metadata": {},
     "outputs": [],
     "prompt_number": 8
    },
    {
     "cell_type": "code",
     "collapsed": false,
     "input": [
      "viewer.addModel(cube)"
     ],
     "language": "python",
     "metadata": {},
     "outputs": [],
     "prompt_number": 9
    },
    {
     "cell_type": "code",
     "collapsed": false,
     "input": [],
     "language": "python",
     "metadata": {},
     "outputs": []
    }
   ],
   "metadata": {}
  }
 ]
}