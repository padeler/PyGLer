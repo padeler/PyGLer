{
 "metadata": {
  "name": "",
  "signature": "sha256:2243479390f4ad435e41dfc7c61ca9334157d318ece375fb18da9e277eb45ca1"
 },
 "nbformat": 3,
 "nbformat_minor": 0,
 "worksheets": [
  {
   "cells": [
    {
     "cell_type": "code",
     "collapsed": false,
     "input": [
      "import sys\n",
      "sys.path.append(\"../../python_tests/PyCVCommons/src\")\n",
      "sys.path.append(\"./src\")\n",
      "\n",
      "import PyMBVCore as Core\n",
      "import PyMBVRendering as Rendering\n",
      "import PyMBVDecoding as Decoding\n",
      "import PyMBVAcquisition as Acquisition\n",
      "\n",
      "from pygler.viewer import PyGLer\n",
      "from pygler.model import PyGLerModel,Geometry\n",
      "from pygler.utils import CreateAxisModel\n",
      "\n",
      "from cvcommons import image\n",
      "from cvcommons.HandModel import HandModel\n",
      "from cvcommons.pointcloud import ConvertFromVector3Buffer,ConvertFromIndexBuffer\n",
      "from cvcommons.camera import Matrix4x4ToNdarray\n",
      "\n",
      "import numpy as np\n",
      "import cv2\n",
      "from time import clock\n",
      "import PyHandTracker as HT"
     ],
     "language": "python",
     "metadata": {},
     "outputs": [],
     "prompt_number": 1
    },
    {
     "cell_type": "code",
     "collapsed": false,
     "input": [
      "renderer = Rendering.RendererOGLCudaExposed.get()\n",
      "renderer.culling = Rendering.RendererOGLBase.Culling.CullNone\n",
      "\n",
      "erenderer = Rendering.ExposedRenderer(renderer, renderer)\n",
      "ht = HT.HandTrackerLib(2048, 2048, 64, 64, erenderer)\n",
      "handDec = Decoding.GenericDecoder()\n",
      "handDec.loadFromFile(\"media/hand_right_low_RH.xml\")\n",
      "ht.decoder = handDec\n",
      "ht.particles = 32\n",
      "ht.generations = 32\n",
      "\n",
      "acq = Acquisition.OpenNIGrabber(True, True, 'media/openni.xml',\"/home/padeler/work/datasets/hand_init.oni\")\n",
      "acq.initialize()"
     ],
     "language": "python",
     "metadata": {},
     "outputs": [
      {
       "metadata": {},
       "output_type": "pyout",
       "prompt_number": 2,
       "text": [
        "True"
       ]
      }
     ],
     "prompt_number": 2
    },
    {
     "cell_type": "code",
     "collapsed": false,
     "input": [
      "# get the geometry from the mbv model into PyGLer                        \n",
      "mr =ht.meshManager.getMesh(0) # sphere\n",
      "cloud = ConvertFromVector3Buffer(mr.getVertexPositions())\n",
      "normals = ConvertFromVector3Buffer(mr.getVertexFeature(\"normal\"))\n",
      "triangles = ConvertFromIndexBuffer(mr.getTriangles())\n",
      "sphereGeometry = Geometry(cloud,triangles=triangles,normals=normals,autoScale=False,bgrColor=False,normalScale=1.0,alpha=0.5)\n",
      "\n",
      "mr =ht.meshManager.getMesh(1) # cylinder\n",
      "cloud = ConvertFromVector3Buffer(mr.getVertexPositions())\n",
      "normals = ConvertFromVector3Buffer(mr.getVertexFeature(\"normal\"))\n",
      "triangles = ConvertFromIndexBuffer(mr.getTriangles())\n",
      "cylinderGeometry = Geometry(cloud,triangles=triangles,normals=normals,autoScale=False,bgrColor=False, normalScale=1.0,alpha=0.5)\n",
      "\n",
      "hm = HandModel(cylinderGeometry,sphereGeometry)"
     ],
     "language": "python",
     "metadata": {},
     "outputs": [],
     "prompt_number": 3
    },
    {
     "cell_type": "code",
     "collapsed": false,
     "input": [
      "defaultInitPos = HT.HandTrackerLib.defaultInitPos\n",
      "\n",
      "initPos = defaultInitPos\n",
      "\n",
      "paused = False\n",
      "delay = {True:0,False:1}\n",
      "tracking = True"
     ],
     "language": "python",
     "metadata": {},
     "outputs": [],
     "prompt_number": 4
    },
    {
     "cell_type": "code",
     "collapsed": false,
     "input": [
      "viewer = PyGLer()\n",
      "viewer.start()\n",
      "\n",
      "handAxis = CreateAxisModel(\"handAxis\", 15, 100)\n",
      "viewer.addModel(handAxis)\n",
      "hm.connectToViewer(viewer)"
     ],
     "language": "python",
     "metadata": {},
     "outputs": [
      {
       "output_type": "stream",
       "stream": "stdout",
       "text": [
        "Reset View.\n",
        "Reset View.\n"
       ]
      }
     ],
     "prompt_number": 5
    },
    {
     "cell_type": "code",
     "collapsed": false,
     "input": [
      "while True:\n",
      "    try:\n",
      "        imgs, clbs = acq.grab()\n",
      "    except:\n",
      "        break\n",
      "\n",
      "    rndViewMat,rndProjMat = ht.step1_setupVirtualCamera(clbs[0])\n",
      "\n",
      "    bb = ht.step2_computeBoundingBox(initPos, 640, 480, 0.1)\n",
      "    ht.step3_zoomVirtualCamera(rndProjMat, bb,640,480)\n",
      "    labels, depths = ht.step4_preprocessInput(imgs[1], imgs[0], bb)\n",
      "    ht.step5_setObservations(labels, depths)\n",
      "\n",
      "    t = clock()\n",
      "    score, initPos = ht.step6_track(initPos)\n",
      "    t = clock() - t\n",
      "    fps = 1.0 / t\n",
      "\n",
      "    foo = Decoding.Info()\n",
      "    decStorageMap, infos = ht.decoder.quickDecode(initPos,foo)\n",
      "\n",
      "    ds0,ds1 = decStorageMap[0],decStorageMap[1] # spheres and cylinders\n",
      "    sphereMats = [Matrix4x4ToNdarray(m) for m in ds0.matrices]\n",
      "    cylinderMats = [Matrix4x4ToNdarray(m) for m in ds1.matrices]\n",
      "\n",
      "    handTr = np.copy(sphereMats[0])# sphereMat[0] is the palm top\n",
      "    handTr[:3,:3] /= np.linalg.norm(handTr[:3,:3],axis=0) # remove scaling\n",
      "    handAxis.setModelM(handTr) \n",
      "    hm.update(sphereMats,cylinderMats)\n",
      "\n",
      "    viz = ht.step7_visualize(imgs[1], rndViewMat,rndProjMat, initPos)\n",
      "    cv2.putText(viz, 'FPS = %f' % fps, (20, 20), 0, 0.5, (0, 0, 255))\n",
      "    image.show(\"Viz\",viz)\n",
      "    \n",
      "    viewer.redraw()\n",
      "    key = cv2.waitKey(delay[paused])\n",
      "    \n",
      "    if key & 255 == ord('q'):\n",
      "        break\n",
      "    if key & 255 == ord('r'):\n",
      "        initPos = defaultInitPos\n",
      "\n",
      "    if key &255 == ord('p'):\n",
      "        paused = not paused"
     ],
     "language": "python",
     "metadata": {},
     "outputs": [],
     "prompt_number": 8
    },
    {
     "cell_type": "code",
     "collapsed": false,
     "input": [
      "handAxis.visible = False\n"
     ],
     "language": "python",
     "metadata": {},
     "outputs": [],
     "prompt_number": 7
    },
    {
     "cell_type": "code",
     "collapsed": false,
     "input": [],
     "language": "python",
     "metadata": {},
     "outputs": []
    }
   ],
   "metadata": {}
  }
 ]
}