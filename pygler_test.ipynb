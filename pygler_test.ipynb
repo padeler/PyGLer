{
 "cells": [
  {
   "cell_type": "code",
   "execution_count": 1,
   "metadata": {
    "collapsed": false
   },
   "outputs": [],
   "source": [
    "from pygler.viewer import PyGLer\n",
    "from pygler.model import PyGLerModel,Geometry\n",
    "import numpy as np\n",
    "import cv2"
   ]
  },
  {
   "cell_type": "code",
   "execution_count": 2,
   "metadata": {
    "collapsed": false
   },
   "outputs": [
    {
     "name": "stdout",
     "output_type": "stream",
     "text": [
      "FBO initialized correctly.\n"
     ]
    }
   ],
   "source": [
    "viewer = PyGLer(useFBO=True)\n",
    "viewer.start()"
   ]
  },
  {
   "cell_type": "code",
   "execution_count": 3,
   "metadata": {
    "collapsed": false
   },
   "outputs": [],
   "source": [
    "tri = PyGLerModel.from_file(\"triceratops.obj\",computeNormals=True)\n",
    "viewer.addModel(tri)"
   ]
  },
  {
   "cell_type": "code",
   "execution_count": 4,
   "metadata": {
    "collapsed": false
   },
   "outputs": [],
   "source": [
    "depth,bgr = viewer.Convert2BGRD(viewer.capture())"
   ]
  },
  {
   "cell_type": "code",
   "execution_count": 5,
   "metadata": {
    "collapsed": false
   },
   "outputs": [],
   "source": [
    "k=0\n",
    "while k&255!=ord('q'):\n",
    "    depth,bgr = viewer.Convert2BGRD(viewer.capture())\n",
    "    depth = cv2.normalize(depth,None,0,255,cv2.NORM_MINMAX,cv2.CV_8UC1)\n",
    "    cv2.imshow(\"depth\",depth)\n",
    "    k = cv2.waitKey(1)\n",
    "\n",
    "cv2.destroyAllWindows()\n"
   ]
  },
  {
   "cell_type": "code",
   "execution_count": 6,
   "metadata": {
    "collapsed": false
   },
   "outputs": [],
   "source": [
    "s = 0.5                                                                \n",
    "v = np.array([ s, s, s,1,\n",
    "              -s, s, s,1,\n",
    "              -s,-s, s,1,\n",
    "               s,-s, s,1,\n",
    "               s,-s,-s,1,\n",
    "               s, s,-s,1,\n",
    "              -s, s,-s,1,\n",
    "              -s,-s,-s,1 ],dtype='f').reshape(-1,4)\n",
    "              \n",
    "c = np.array([ 1, 1, 1, 1, \n",
    "               1, 1, 0, 1, \n",
    "               1, 0, 1, 1,\n",
    "               0, 1, 1, 1,\n",
    "               1, 0, 0, 1,\n",
    "               0, 0, 1, 1,\n",
    "               0, 1, 0, 1,\n",
    "               0, 0, 0, 1],dtype='f').reshape(-1,4); \n",
    "\n",
    "t = np.array([0,1,2, 2,3,0,\n",
    "              0,3,5, 5,3,4,\n",
    "              5,6,7, 7,4,5,\n",
    "              1,0,5, 5,6,1,\n",
    "              1,6,7, 7,2,1,\n",
    "              2,7,4, 4,3,2 ],dtype=np.uint32)\n",
    "                                 \n",
    "vertices = np.array( [\n",
    "        [  0, 1, 0, 1.0 ],\n",
    "        [ -1,-1, 0, 1.0 ],\n",
    "        [  1,-1, 0, 1.0 ],\n",
    "        [  2,-1, 0, 1.0 ],\n",
    "        [  4,-1, 0, 1.0 ],\n",
    "        [  4, 1, 0, 1.0 ],\n",
    "        [  2,-1, 0, 1.0 ],\n",
    "        [  4, 1, 0, 1.0 ],\n",
    "        [  2, 1, 0, 1.0 ]\n",
    "    ],'f')\n",
    "\n",
    "triangles = np.array([0,1,2,3,4,5,6,7,8]\n",
    ",np.uint32)\n",
    "\n",
    "colors = np.array([ [ 0,1,0,1 ],\n",
    "                   [ 1,1,0,1 ],\n",
    "                   [ 0,1,1,1 ],\n",
    "                   [ 1,0,0,1 ],\n",
    "                   [ 0,1,0,1 ],\n",
    "                   [ 0,0,1,1 ],\n",
    "                   [ 1,0,0,1 ],\n",
    "                   [ 0,0,1,1 ],\n",
    "                   [ 0,1,1,1 ]],'f')\n"
   ]
  },
  {
   "cell_type": "code",
   "execution_count": 7,
   "metadata": {
    "collapsed": false
   },
   "outputs": [],
   "source": [
    "m = PyGLerModel(\"Test\",Geometry(vertices,triangles=triangles, colors=colors))"
   ]
  },
  {
   "cell_type": "code",
   "execution_count": 8,
   "metadata": {
    "collapsed": false
   },
   "outputs": [],
   "source": [
    "cube = PyGLerModel(\"Cube\",Geometry(vertices = v, triangles=t, colors=c, autoScale=True))"
   ]
  },
  {
   "cell_type": "code",
   "execution_count": 9,
   "metadata": {
    "collapsed": false
   },
   "outputs": [],
   "source": [
    "viewer.addModel(cube)"
   ]
  },
  {
   "cell_type": "code",
   "execution_count": null,
   "metadata": {
    "collapsed": false
   },
   "outputs": [],
   "source": []
  }
 ],
 "metadata": {
  "kernelspec": {
   "display_name": "Python 2",
   "language": "python",
   "name": "python2"
  },
  "language_info": {
   "codemirror_mode": {
    "name": "ipython",
    "version": 2
   },
   "file_extension": ".py",
   "mimetype": "text/x-python",
   "name": "python",
   "nbconvert_exporter": "python",
   "pygments_lexer": "ipython2",
   "version": "2.7.6"
  }
 },
 "nbformat": 4,
 "nbformat_minor": 0
}
